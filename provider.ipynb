{
 "cells": [
  {
   "cell_type": "code",
   "execution_count": 1,
   "id": "54d09565-1d12-4955-94a1-3125bb0a443c",
   "metadata": {},
   "outputs": [],
   "source": [
    "from pyspark.sql import SparkSession \n",
    "from pyspark.sql.functions import explode,col,expr\n",
    "import pandas as pd\n"
   ]
  },
  {
   "cell_type": "code",
   "execution_count": 2,
   "id": "72493e24-3559-47e1-a548-aa6670f83fe7",
   "metadata": {},
   "outputs": [
    {
     "name": "stderr",
     "output_type": "stream",
     "text": [
      "25/04/28 17:49:25 WARN Utils: Your hostname, nischit-baral resolves to a loopback address: 127.0.1.1; using 10.10.42.113 instead (on interface enp2s0)\n",
      "25/04/28 17:49:25 WARN Utils: Set SPARK_LOCAL_IP if you need to bind to another address\n",
      "Setting default log level to \"WARN\".\n",
      "To adjust logging level use sc.setLogLevel(newLevel). For SparkR, use setLogLevel(newLevel).\n",
      "25/04/28 17:49:26 WARN NativeCodeLoader: Unable to load native-hadoop library for your platform... using builtin-java classes where applicable\n"
     ]
    }
   ],
   "source": [
    "spark = SparkSession.builder.appName('task_3').getOrCreate()"
   ]
  },
  {
   "cell_type": "code",
   "execution_count": 3,
   "id": "c0d22cc0-1f3b-4a19-ac62-9973aa2fdac6",
   "metadata": {},
   "outputs": [
    {
     "data": {
      "text/html": [
       "\n",
       "            <div>\n",
       "                <p><b>SparkSession - in-memory</b></p>\n",
       "                \n",
       "        <div>\n",
       "            <p><b>SparkContext</b></p>\n",
       "\n",
       "            <p><a href=\"http://10.10.42.113:4040\">Spark UI</a></p>\n",
       "\n",
       "            <dl>\n",
       "              <dt>Version</dt>\n",
       "                <dd><code>v3.5.5</code></dd>\n",
       "              <dt>Master</dt>\n",
       "                <dd><code>local[*]</code></dd>\n",
       "              <dt>AppName</dt>\n",
       "                <dd><code>task_3</code></dd>\n",
       "            </dl>\n",
       "        </div>\n",
       "        \n",
       "            </div>\n",
       "        "
      ],
      "text/plain": [
       "<pyspark.sql.session.SparkSession at 0x729e0a179120>"
      ]
     },
     "execution_count": 3,
     "metadata": {},
     "output_type": "execute_result"
    }
   ],
   "source": [
    "spark"
   ]
  },
  {
   "cell_type": "code",
   "execution_count": 4,
   "id": "7c1c4871-b705-4b92-b10e-e3f2078913f5",
   "metadata": {},
   "outputs": [],
   "source": [
    "df_pyspark = spark.read.option('multiline','true').json('works.json')\n"
   ]
  },
  {
   "cell_type": "code",
   "execution_count": 5,
   "id": "9afcb134-a3af-4de8-8086-6ab7d5e11ceb",
   "metadata": {},
   "outputs": [
    {
     "name": "stdout",
     "output_type": "stream",
     "text": [
      "root\n",
      " |-- provider_group_id: long (nullable = true)\n",
      " |-- provider_groups: array (nullable = true)\n",
      " |    |-- element: struct (containsNull = true)\n",
      " |    |    |-- npi: array (nullable = true)\n",
      " |    |    |    |-- element: long (containsNull = true)\n",
      " |    |    |-- tin: struct (nullable = true)\n",
      " |    |    |    |-- type: string (nullable = true)\n",
      " |    |    |    |-- value: string (nullable = true)\n",
      "\n"
     ]
    }
   ],
   "source": [
    "# df_pyspark.show()\n",
    "df_pyspark.printSchema()"
   ]
  },
  {
   "cell_type": "code",
   "execution_count": 6,
   "id": "09c9d6c7-ccab-4b2f-b90c-e9634f572593",
   "metadata": {},
   "outputs": [
    {
     "name": "stderr",
     "output_type": "stream",
     "text": [
      "                                                                                "
     ]
    },
    {
     "name": "stdout",
     "output_type": "stream",
     "text": [
      "+-----------------+--------------------+--------+----------+\n",
      "|provider_group_id|                 npi|tin_type| tin_value|\n",
      "+-----------------+--------------------+--------+----------+\n",
      "|         10001001|[1235233008, 1316...|     ein|04-3267217|\n",
      "|         10001001|        [1366459570]|     ein|11-1562701|\n",
      "|         10001001|        [1417915653]|     ein|11-3358535|\n",
      "|         10001001|        [1417915653]|     ein|13-3888838|\n",
      "|         10002001|[1609829761, 1821...|     ein|00-0004110|\n",
      "|         10002001|        [1760986277]|     ein|00-6980743|\n",
      "|         10002001|        [1215075882]|     ein|01-0550744|\n",
      "|         10002001|        [1013917665]|     ein|01-0555304|\n",
      "|         10002001|[1679780811, 1700...|     ein|01-0555483|\n",
      "|         10002001|        [1376647511]|     ein|01-0567880|\n",
      "|         10002001|        [1740287010]|     ein|01-0569673|\n",
      "|         10002001|        [1265538219]|     ein|01-0571165|\n",
      "|         10002001|        [1689625253]|     ein|01-0577025|\n",
      "|         10002001|        [1184901563]|     ein|01-0580565|\n",
      "|         10002001|        [1609814490]|     ein|01-0583000|\n",
      "|         10002001|        [1720013139]|     ein|01-0583099|\n",
      "|         10002001|        [1528110244]|     ein|01-0585989|\n",
      "|         10002001|        [1073629994]|     ein|01-0587168|\n",
      "|         10002001|        [1376589770]|     ein|01-0588426|\n",
      "|         10002001|        [1588720619]|     ein|01-0608157|\n",
      "+-----------------+--------------------+--------+----------+\n",
      "only showing top 20 rows\n",
      "\n"
     ]
    }
   ],
   "source": [
    "provider_group = df_pyspark.withColumn(\"new_provider\", explode(\"provider_groups\"))\n",
    "\n",
    "provider_again = provider_group.select(\n",
    "    \"provider_group_id\",\n",
    "    col(\"new_provider.npi\").alias(\"npi\"),\n",
    "    col(\"new_provider.tin.type\").alias(\"tin_type\"),\n",
    "    col(\"new_provider.tin.value\").alias(\"tin_value\")\n",
    ")         \n",
    "\n",
    "provider_again.show()"
   ]
  },
  {
   "cell_type": "code",
   "execution_count": 7,
   "id": "9e49d7cd-bf56-442e-a6db-8817df115f88",
   "metadata": {},
   "outputs": [
    {
     "name": "stdout",
     "output_type": "stream",
     "text": [
      "+-----------------+--------------------+--------+---------+\n",
      "|provider_group_id|                 npi|tin_type|tin_value|\n",
      "+-----------------+--------------------+--------+---------+\n",
      "|         10001001|[1235233008, 1316...|     ein|043267217|\n",
      "|         10001001|        [1366459570]|     ein|111562701|\n",
      "|         10001001|        [1417915653]|     ein|113358535|\n",
      "|         10001001|        [1417915653]|     ein|133888838|\n",
      "|         10002001|[1609829761, 1821...|     ein|000004110|\n",
      "|         10002001|        [1760986277]|     ein|006980743|\n",
      "|         10002001|        [1215075882]|     ein|010550744|\n",
      "|         10002001|        [1013917665]|     ein|010555304|\n",
      "|         10002001|[1679780811, 1700...|     ein|010555483|\n",
      "|         10002001|        [1376647511]|     ein|010567880|\n",
      "|         10002001|        [1740287010]|     ein|010569673|\n",
      "|         10002001|        [1265538219]|     ein|010571165|\n",
      "|         10002001|        [1689625253]|     ein|010577025|\n",
      "|         10002001|        [1184901563]|     ein|010580565|\n",
      "|         10002001|        [1609814490]|     ein|010583000|\n",
      "|         10002001|        [1720013139]|     ein|010583099|\n",
      "|         10002001|        [1528110244]|     ein|010585989|\n",
      "|         10002001|        [1073629994]|     ein|010587168|\n",
      "|         10002001|        [1376589770]|     ein|010588426|\n",
      "|         10002001|        [1588720619]|     ein|010608157|\n",
      "+-----------------+--------------------+--------+---------+\n",
      "only showing top 20 rows\n",
      "\n"
     ]
    }
   ],
   "source": [
    "rem_hyp = provider_again.withColumn('tin_value', expr(\"replace(tin_value,'-','')\"))\n",
    "rem_hyp.show()"
   ]
  },
  {
   "cell_type": "code",
   "execution_count": 13,
   "id": "12062bcd-43b9-4ab4-a450-9e8aeafc482e",
   "metadata": {},
   "outputs": [],
   "source": [
    "rem_hyp.toPandas().to_json('in_prov.json', orient='records')"
   ]
  },
  {
   "cell_type": "code",
   "execution_count": null,
   "id": "58ba396b-75a8-45a7-8e92-fb4da6e322ad",
   "metadata": {},
   "outputs": [],
   "source": []
  },
  {
   "cell_type": "code",
   "execution_count": null,
   "id": "1c5e8a84-2bee-4a55-8b4e-f4d569027ef8",
   "metadata": {},
   "outputs": [],
   "source": []
  },
  {
   "cell_type": "code",
   "execution_count": null,
   "id": "17e2a307-ff87-465d-8dab-eedafb1912b1",
   "metadata": {},
   "outputs": [],
   "source": []
  },
  {
   "cell_type": "code",
   "execution_count": null,
   "id": "5e6be017-e6c6-4997-92c6-fc0641295732",
   "metadata": {},
   "outputs": [],
   "source": []
  },
  {
   "cell_type": "code",
   "execution_count": null,
   "id": "b26d5ee7-bf59-4b13-9fc1-49e41a79978c",
   "metadata": {},
   "outputs": [],
   "source": []
  },
  {
   "cell_type": "code",
   "execution_count": null,
   "id": "97a76f2b-5e2b-4fee-b999-c5776e2b8613",
   "metadata": {},
   "outputs": [],
   "source": []
  },
  {
   "cell_type": "code",
   "execution_count": null,
   "id": "a135ebec-0294-46f8-9f25-0b664347960e",
   "metadata": {},
   "outputs": [],
   "source": []
  },
  {
   "cell_type": "code",
   "execution_count": null,
   "id": "444f0ab3-1a7a-428c-88fd-7ce18c3faaf9",
   "metadata": {},
   "outputs": [],
   "source": []
  },
  {
   "cell_type": "code",
   "execution_count": null,
   "id": "29c1547e-8286-476c-a657-639cdf4c4adf",
   "metadata": {},
   "outputs": [],
   "source": []
  }
 ],
 "metadata": {
  "kernelspec": {
   "display_name": "Python 3 (ipykernel)",
   "language": "python",
   "name": "python3"
  },
  "language_info": {
   "codemirror_mode": {
    "name": "ipython",
    "version": 3
   },
   "file_extension": ".py",
   "mimetype": "text/x-python",
   "name": "python",
   "nbconvert_exporter": "python",
   "pygments_lexer": "ipython3",
   "version": "3.10.12"
  }
 },
 "nbformat": 4,
 "nbformat_minor": 5
}

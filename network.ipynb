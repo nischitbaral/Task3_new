{
 "cells": [
  {
   "cell_type": "code",
   "execution_count": 7,
   "id": "6fad001f-920d-458e-9599-d135115ebf87",
   "metadata": {},
   "outputs": [],
   "source": [
    "from pyspark.sql import SparkSession \n",
    "from pyspark.sql.functions import explode,col,hash,expr,split,array"
   ]
  },
  {
   "cell_type": "code",
   "execution_count": 8,
   "id": "7b1755b9-3811-474c-a8a0-21fe58ce18a3",
   "metadata": {},
   "outputs": [],
   "source": [
    "spark = SparkSession.builder.appName('network').config(\"spark.driver.memory\", \"4g\").getOrCreate()"
   ]
  },
  {
   "cell_type": "code",
   "execution_count": 9,
   "id": "e21f1e30-2fd8-4712-9060-6cfdf246063e",
   "metadata": {},
   "outputs": [
    {
     "data": {
      "text/html": [
       "\n",
       "            <div>\n",
       "                <p><b>SparkSession - in-memory</b></p>\n",
       "                \n",
       "        <div>\n",
       "            <p><b>SparkContext</b></p>\n",
       "\n",
       "            <p><a href=\"http://10.10.42.113:4040\">Spark UI</a></p>\n",
       "\n",
       "            <dl>\n",
       "              <dt>Version</dt>\n",
       "                <dd><code>v3.5.5</code></dd>\n",
       "              <dt>Master</dt>\n",
       "                <dd><code>local[*]</code></dd>\n",
       "              <dt>AppName</dt>\n",
       "                <dd><code>network</code></dd>\n",
       "            </dl>\n",
       "        </div>\n",
       "        \n",
       "            </div>\n",
       "        "
      ],
      "text/plain": [
       "<pyspark.sql.session.SparkSession at 0x76dcf7ffce50>"
      ]
     },
     "execution_count": 9,
     "metadata": {},
     "output_type": "execute_result"
    }
   ],
   "source": [
    "spark"
   ]
  },
  {
   "cell_type": "code",
   "execution_count": 10,
   "id": "7f79e269-d488-4729-a778-30ce51fde4d8",
   "metadata": {},
   "outputs": [
    {
     "name": "stderr",
     "output_type": "stream",
     "text": [
      "                                                                                "
     ]
    }
   ],
   "source": [
    "df_pyspark = spark.read.option('multiline','true').json('rate.json')\n"
   ]
  },
  {
   "cell_type": "code",
   "execution_count": 11,
   "id": "1590d741-c511-42b5-a232-a2ebf2cad0a9",
   "metadata": {},
   "outputs": [
    {
     "name": "stdout",
     "output_type": "stream",
     "text": [
      "root\n",
      " |-- billing_code: string (nullable = true)\n",
      " |-- billing_code_type: string (nullable = true)\n",
      " |-- billing_code_type_version: string (nullable = true)\n",
      " |-- description: string (nullable = true)\n",
      " |-- name: string (nullable = true)\n",
      " |-- negotiated_rates: array (nullable = true)\n",
      " |    |-- element: struct (containsNull = true)\n",
      " |    |    |-- negotiated_prices: array (nullable = true)\n",
      " |    |    |    |-- element: struct (containsNull = true)\n",
      " |    |    |    |    |-- additional_information: string (nullable = true)\n",
      " |    |    |    |    |-- billing_class: string (nullable = true)\n",
      " |    |    |    |    |-- billing_code_modifier: array (nullable = true)\n",
      " |    |    |    |    |    |-- element: string (containsNull = true)\n",
      " |    |    |    |    |-- expiration_date: string (nullable = true)\n",
      " |    |    |    |    |-- negotiated_rate: double (nullable = true)\n",
      " |    |    |    |    |-- negotiated_type: string (nullable = true)\n",
      " |    |    |    |    |-- service_code: array (nullable = true)\n",
      " |    |    |    |    |    |-- element: string (containsNull = true)\n",
      " |    |    |-- provider_references: array (nullable = true)\n",
      " |    |    |    |-- element: long (containsNull = true)\n",
      " |-- negotiation_arrangement: string (nullable = true)\n",
      "\n"
     ]
    }
   ],
   "source": [
    "df_pyspark.printSchema()"
   ]
  },
  {
   "cell_type": "code",
   "execution_count": 12,
   "id": "2d4d68fe-1e95-4cf5-b60d-a7e787fe7ee1",
   "metadata": {},
   "outputs": [
    {
     "name": "stderr",
     "output_type": "stream",
     "text": [
      "[Stage 3:>                                                          (0 + 1) / 1]"
     ]
    },
    {
     "name": "stdout",
     "output_type": "stream",
     "text": [
      "+------------+-----------------+-----------------------+-------------+---------------+---------------------+---------------+------------+--------------------+\n",
      "|billing_code|billing_code_type|negotiation_arrangement|billing_class|negotiated_rate|billing_code_modifier|negotiated_type|service_code|   provider_group_id|\n",
      "+------------+-----------------+-----------------------+-------------+---------------+---------------------+---------------+------------+--------------------+\n",
      "|       PEMG1|              CPT|                    ffs| professional|           70.0|                 NULL|     negotiated|        [11]|[10001001, 100020...|\n",
      "|       PEMG1|              CPT|                    ffs| professional|           77.0|                 NULL|     negotiated|        [11]|          [10048001]|\n",
      "|       PEMG1|              CPT|                    ffs| professional|         119.97|                 NULL|     negotiated|        [11]|          [10077001]|\n",
      "|       PEMG1|              CPT|                    ffs| professional|           94.5|                 NULL|     negotiated|        [11]|          [10087001]|\n",
      "|       PEMG1|              CPT|                    ffs| professional|         141.51|                 NULL|     negotiated|        [11]|[10152001, 10153001]|\n",
      "|       PEMG1|              CPT|                    ffs| professional|           84.0|                 NULL|     negotiated|        [11]|[10187001, 10395001]|\n",
      "|       PEMG1|              CPT|                    ffs| professional|          106.4|                 NULL|     negotiated|        [11]|          [10259001]|\n",
      "|       PEMG1|              CPT|                    ffs| professional|          108.5|                 NULL|     negotiated|        [11]|          [10286001]|\n",
      "|       PEMG1|              CPT|                    ffs| professional|          105.0|                 NULL|     negotiated|        [11]|[10313001, 10399001]|\n",
      "|       27157|              CPT|                    ffs| professional|         2420.0|                 NULL|     negotiated|        [11]|          [10038001]|\n",
      "|       27157|              CPT|                    ffs| professional|         4447.4|                 NULL|     negotiated|        [11]|[10152001, 10153001]|\n",
      "|       27157|              CPT|                    ffs| professional|         2640.0|                 NULL|     negotiated|        [11]|[10187001, 10395001]|\n",
      "|       27157|              CPT|                    ffs| professional|         2200.0|                 NULL|     negotiated|        [11]|[10258001, 102680...|\n",
      "|       27157|              CPT|                    ffs| professional|         3410.0|                 NULL|     negotiated|        [11]|          [10286001]|\n",
      "|       27157|              CPT|                    ffs| professional|         3300.0|                 NULL|     negotiated|        [11]|[10313001, 10399001]|\n",
      "|       82112|              CPT|                    ffs| professional|           17.5|                 NULL|     negotiated|        [11]|[10001001, 100020...|\n",
      "|       82112|              CPT|                    ffs| professional|          15.75|                 NULL|     negotiated|        [11]|[10014001, 101540...|\n",
      "|       82112|              CPT|                    ffs| professional|          19.25|                 NULL|     negotiated|        [11]|[10029001, 10048001]|\n",
      "|       82112|              CPT|                    ffs| professional|          29.99|                 NULL|     negotiated|        [11]|          [10077001]|\n",
      "|       82112|              CPT|                    ffs| professional|          23.63|                 NULL|     negotiated|        [11]|[10087001, 103130...|\n",
      "+------------+-----------------+-----------------------+-------------+---------------+---------------------+---------------+------------+--------------------+\n",
      "only showing top 20 rows\n",
      "\n"
     ]
    },
    {
     "name": "stderr",
     "output_type": "stream",
     "text": [
      "                                                                                "
     ]
    }
   ],
   "source": [
    "network_group = df_pyspark.withColumn('new_network',explode('negotiated_rates'))\n",
    "network_agn = network_group.withColumn('newest_network',explode('new_network.negotiated_prices'))\n",
    "\n",
    "network_again = network_agn.select(\n",
    "    \"billing_code\",\"billing_code_type\",\"negotiation_arrangement\",\n",
    "    col('newest_network.billing_class').alias('billing_class'),\n",
    "    col('newest_network.negotiated_rate').alias('negotiated_rate'),\n",
    "    \n",
    "    col('newest_network.billing_code_modifier').alias('billing_code_modifier'),\n",
    "    col('newest_network.negotiated_type').alias('negotiated_type'),\n",
    "    col('newest_network.service_code').alias('service_code'),\n",
    "    col('new_network.provider_references').alias('provider_group_id')\n",
    "    \n",
    ")\n",
    "network_again.show()\n",
    "\n",
    "\n",
    "    \n",
    "    "
   ]
  },
  {
   "cell_type": "code",
   "execution_count": 13,
   "id": "02918deb-897b-4f67-a361-ec222a9336fa",
   "metadata": {
    "scrolled": true
   },
   "outputs": [
    {
     "name": "stdout",
     "output_type": "stream",
     "text": [
      "root\n",
      " |-- billing_code: string (nullable = true)\n",
      " |-- billing_code_type: string (nullable = true)\n",
      " |-- negotiation_arrangement: string (nullable = true)\n",
      " |-- billing_class: string (nullable = true)\n",
      " |-- negotiated_rate: double (nullable = true)\n",
      " |-- billing_code_modifier: array (nullable = true)\n",
      " |    |-- element: string (containsNull = true)\n",
      " |-- negotiated_type: string (nullable = true)\n",
      " |-- service_code: array (nullable = true)\n",
      " |    |-- element: string (containsNull = true)\n",
      " |-- provider_group_id: array (nullable = true)\n",
      " |    |-- element: long (containsNull = true)\n",
      "\n"
     ]
    }
   ],
   "source": [
    "network_again.printSchema()"
   ]
  },
  {
   "cell_type": "markdown",
   "id": "497e2c6e-09d5-42ab-8318-527b5ccf769f",
   "metadata": {},
   "source": [
    "### removing the null value from the billing code\n"
   ]
  },
  {
   "cell_type": "code",
   "execution_count": 14,
   "id": "3377439c-f31d-4c8a-a2d2-628f9565df3b",
   "metadata": {},
   "outputs": [],
   "source": [
    "removena_bc = network_again.dropna(subset=['billing_code'])"
   ]
  },
  {
   "cell_type": "code",
   "execution_count": 15,
   "id": "912660ca-ad34-499f-97d6-81770b1fa53c",
   "metadata": {},
   "outputs": [
    {
     "name": "stderr",
     "output_type": "stream",
     "text": [
      "[Stage 4:>                                                          (0 + 1) / 1]"
     ]
    },
    {
     "name": "stdout",
     "output_type": "stream",
     "text": [
      "+------------+-----------------+-----------------------+-------------+---------------+---------------------+---------------+------------+--------------------+\n",
      "|billing_code|billing_code_type|negotiation_arrangement|billing_class|negotiated_rate|billing_code_modifier|negotiated_type|service_code|   provider_group_id|\n",
      "+------------+-----------------+-----------------------+-------------+---------------+---------------------+---------------+------------+--------------------+\n",
      "|       PEMG1|              CPT|                    ffs| professional|           70.0|                 NULL|     negotiated|        [11]|[10001001, 100020...|\n",
      "|       PEMG1|              CPT|                    ffs| professional|           77.0|                 NULL|     negotiated|        [11]|          [10048001]|\n",
      "|       PEMG1|              CPT|                    ffs| professional|         119.97|                 NULL|     negotiated|        [11]|          [10077001]|\n",
      "|       PEMG1|              CPT|                    ffs| professional|           94.5|                 NULL|     negotiated|        [11]|          [10087001]|\n",
      "|       PEMG1|              CPT|                    ffs| professional|         141.51|                 NULL|     negotiated|        [11]|[10152001, 10153001]|\n",
      "|       PEMG1|              CPT|                    ffs| professional|           84.0|                 NULL|     negotiated|        [11]|[10187001, 10395001]|\n",
      "|       PEMG1|              CPT|                    ffs| professional|          106.4|                 NULL|     negotiated|        [11]|          [10259001]|\n",
      "|       PEMG1|              CPT|                    ffs| professional|          108.5|                 NULL|     negotiated|        [11]|          [10286001]|\n",
      "|       PEMG1|              CPT|                    ffs| professional|          105.0|                 NULL|     negotiated|        [11]|[10313001, 10399001]|\n",
      "|       27157|              CPT|                    ffs| professional|         2420.0|                 NULL|     negotiated|        [11]|          [10038001]|\n",
      "|       27157|              CPT|                    ffs| professional|         4447.4|                 NULL|     negotiated|        [11]|[10152001, 10153001]|\n",
      "|       27157|              CPT|                    ffs| professional|         2640.0|                 NULL|     negotiated|        [11]|[10187001, 10395001]|\n",
      "|       27157|              CPT|                    ffs| professional|         2200.0|                 NULL|     negotiated|        [11]|[10258001, 102680...|\n",
      "|       27157|              CPT|                    ffs| professional|         3410.0|                 NULL|     negotiated|        [11]|          [10286001]|\n",
      "|       27157|              CPT|                    ffs| professional|         3300.0|                 NULL|     negotiated|        [11]|[10313001, 10399001]|\n",
      "|       82112|              CPT|                    ffs| professional|           17.5|                 NULL|     negotiated|        [11]|[10001001, 100020...|\n",
      "|       82112|              CPT|                    ffs| professional|          15.75|                 NULL|     negotiated|        [11]|[10014001, 101540...|\n",
      "|       82112|              CPT|                    ffs| professional|          19.25|                 NULL|     negotiated|        [11]|[10029001, 10048001]|\n",
      "|       82112|              CPT|                    ffs| professional|          29.99|                 NULL|     negotiated|        [11]|          [10077001]|\n",
      "|       82112|              CPT|                    ffs| professional|          23.63|                 NULL|     negotiated|        [11]|[10087001, 103130...|\n",
      "+------------+-----------------+-----------------------+-------------+---------------+---------------------+---------------+------------+--------------------+\n",
      "only showing top 20 rows\n",
      "\n"
     ]
    },
    {
     "name": "stderr",
     "output_type": "stream",
     "text": [
      "                                                                                "
     ]
    }
   ],
   "source": [
    "removena_bc.show()"
   ]
  },
  {
   "cell_type": "markdown",
   "id": "fe6628da-632c-40ee-b308-542156a447de",
   "metadata": {},
   "source": [
    "### Use hashing for service code column"
   ]
  },
  {
   "cell_type": "code",
   "execution_count": 16,
   "id": "ca55d63b-00e8-46a4-952b-9017b286a8af",
   "metadata": {},
   "outputs": [
    {
     "name": "stderr",
     "output_type": "stream",
     "text": [
      "[Stage 5:>                                                          (0 + 1) / 1]"
     ]
    },
    {
     "name": "stdout",
     "output_type": "stream",
     "text": [
      "+------------+-----------------+-----------------------+-------------+---------------+---------------------+---------------+------------+--------------------+\n",
      "|billing_code|billing_code_type|negotiation_arrangement|billing_class|negotiated_rate|billing_code_modifier|negotiated_type|service_code|   provider_group_id|\n",
      "+------------+-----------------+-----------------------+-------------+---------------+---------------------+---------------+------------+--------------------+\n",
      "|       PEMG1|              CPT|                    ffs| professional|           70.0|                 NULL|     negotiated| -1726485189|[10001001, 100020...|\n",
      "|       PEMG1|              CPT|                    ffs| professional|           77.0|                 NULL|     negotiated| -1726485189|          [10048001]|\n",
      "|       PEMG1|              CPT|                    ffs| professional|         119.97|                 NULL|     negotiated| -1726485189|          [10077001]|\n",
      "|       PEMG1|              CPT|                    ffs| professional|           94.5|                 NULL|     negotiated| -1726485189|          [10087001]|\n",
      "|       PEMG1|              CPT|                    ffs| professional|         141.51|                 NULL|     negotiated| -1726485189|[10152001, 10153001]|\n",
      "|       PEMG1|              CPT|                    ffs| professional|           84.0|                 NULL|     negotiated| -1726485189|[10187001, 10395001]|\n",
      "|       PEMG1|              CPT|                    ffs| professional|          106.4|                 NULL|     negotiated| -1726485189|          [10259001]|\n",
      "|       PEMG1|              CPT|                    ffs| professional|          108.5|                 NULL|     negotiated| -1726485189|          [10286001]|\n",
      "|       PEMG1|              CPT|                    ffs| professional|          105.0|                 NULL|     negotiated| -1726485189|[10313001, 10399001]|\n",
      "|       27157|              CPT|                    ffs| professional|         2420.0|                 NULL|     negotiated| -1726485189|          [10038001]|\n",
      "|       27157|              CPT|                    ffs| professional|         4447.4|                 NULL|     negotiated| -1726485189|[10152001, 10153001]|\n",
      "|       27157|              CPT|                    ffs| professional|         2640.0|                 NULL|     negotiated| -1726485189|[10187001, 10395001]|\n",
      "|       27157|              CPT|                    ffs| professional|         2200.0|                 NULL|     negotiated| -1726485189|[10258001, 102680...|\n",
      "|       27157|              CPT|                    ffs| professional|         3410.0|                 NULL|     negotiated| -1726485189|          [10286001]|\n",
      "|       27157|              CPT|                    ffs| professional|         3300.0|                 NULL|     negotiated| -1726485189|[10313001, 10399001]|\n",
      "|       82112|              CPT|                    ffs| professional|           17.5|                 NULL|     negotiated| -1726485189|[10001001, 100020...|\n",
      "|       82112|              CPT|                    ffs| professional|          15.75|                 NULL|     negotiated| -1726485189|[10014001, 101540...|\n",
      "|       82112|              CPT|                    ffs| professional|          19.25|                 NULL|     negotiated| -1726485189|[10029001, 10048001]|\n",
      "|       82112|              CPT|                    ffs| professional|          29.99|                 NULL|     negotiated| -1726485189|          [10077001]|\n",
      "|       82112|              CPT|                    ffs| professional|          23.63|                 NULL|     negotiated| -1726485189|[10087001, 103130...|\n",
      "+------------+-----------------+-----------------------+-------------+---------------+---------------------+---------------+------------+--------------------+\n",
      "only showing top 20 rows\n",
      "\n"
     ]
    },
    {
     "name": "stderr",
     "output_type": "stream",
     "text": [
      "                                                                                "
     ]
    }
   ],
   "source": [
    "add_has = removena_bc.withColumn('service_code',hash('service_code'))\n",
    "add_has.show()\n",
    "                                 \n",
    "                            "
   ]
  },
  {
   "cell_type": "markdown",
   "id": "41047663-6571-4849-9fec-abfcc30b54fa",
   "metadata": {},
   "source": [
    "### column renamed"
   ]
  },
  {
   "cell_type": "code",
   "execution_count": 17,
   "id": "a1c05ef0-1a76-4edd-b3d0-c2ec4fd50383",
   "metadata": {},
   "outputs": [],
   "source": [
    "rename_col = add_has.withColumnRenamed('billing_class','bCIs')\\\n",
    "                .withColumnRenamed('billing_code','bC')\\\n",
    "                .withColumnRenamed('billing_code_type','bCT')\\\n",
    "                .withColumnRenamed('negotiated_rate','negR')\\\n",
    "                .withColumnRenamed('negotiated_type','negT')\\\n",
    "                .withColumnRenamed('negotiation_arrangement','negA')\\\n",
    "                .withColumnRenamed('billing_code_modifier','mdH')\\\n",
    "                .withColumnRenamed('service_code','poSH')"
   ]
  },
  {
   "cell_type": "code",
   "execution_count": 18,
   "id": "58c78d4c-c047-40d6-b49e-3b51520f5845",
   "metadata": {},
   "outputs": [
    {
     "name": "stderr",
     "output_type": "stream",
     "text": [
      "[Stage 6:>                                                          (0 + 1) / 1]"
     ]
    },
    {
     "name": "stdout",
     "output_type": "stream",
     "text": [
      "+-----+---+----+------------+------+----+----------+-----------+--------------------+\n",
      "|   bC|bCT|negA|        bCIs|  negR| mdH|      negT|       poSH|   provider_group_id|\n",
      "+-----+---+----+------------+------+----+----------+-----------+--------------------+\n",
      "|PEMG1|CPT| ffs|professional|  70.0|NULL|negotiated|-1726485189|[10001001, 100020...|\n",
      "|PEMG1|CPT| ffs|professional|  77.0|NULL|negotiated|-1726485189|          [10048001]|\n",
      "|PEMG1|CPT| ffs|professional|119.97|NULL|negotiated|-1726485189|          [10077001]|\n",
      "|PEMG1|CPT| ffs|professional|  94.5|NULL|negotiated|-1726485189|          [10087001]|\n",
      "|PEMG1|CPT| ffs|professional|141.51|NULL|negotiated|-1726485189|[10152001, 10153001]|\n",
      "|PEMG1|CPT| ffs|professional|  84.0|NULL|negotiated|-1726485189|[10187001, 10395001]|\n",
      "|PEMG1|CPT| ffs|professional| 106.4|NULL|negotiated|-1726485189|          [10259001]|\n",
      "|PEMG1|CPT| ffs|professional| 108.5|NULL|negotiated|-1726485189|          [10286001]|\n",
      "|PEMG1|CPT| ffs|professional| 105.0|NULL|negotiated|-1726485189|[10313001, 10399001]|\n",
      "|27157|CPT| ffs|professional|2420.0|NULL|negotiated|-1726485189|          [10038001]|\n",
      "|27157|CPT| ffs|professional|4447.4|NULL|negotiated|-1726485189|[10152001, 10153001]|\n",
      "|27157|CPT| ffs|professional|2640.0|NULL|negotiated|-1726485189|[10187001, 10395001]|\n",
      "|27157|CPT| ffs|professional|2200.0|NULL|negotiated|-1726485189|[10258001, 102680...|\n",
      "|27157|CPT| ffs|professional|3410.0|NULL|negotiated|-1726485189|          [10286001]|\n",
      "|27157|CPT| ffs|professional|3300.0|NULL|negotiated|-1726485189|[10313001, 10399001]|\n",
      "|82112|CPT| ffs|professional|  17.5|NULL|negotiated|-1726485189|[10001001, 100020...|\n",
      "|82112|CPT| ffs|professional| 15.75|NULL|negotiated|-1726485189|[10014001, 101540...|\n",
      "|82112|CPT| ffs|professional| 19.25|NULL|negotiated|-1726485189|[10029001, 10048001]|\n",
      "|82112|CPT| ffs|professional| 29.99|NULL|negotiated|-1726485189|          [10077001]|\n",
      "|82112|CPT| ffs|professional| 23.63|NULL|negotiated|-1726485189|[10087001, 103130...|\n",
      "+-----+---+----+------------+------+----+----------+-----------+--------------------+\n",
      "only showing top 20 rows\n",
      "\n"
     ]
    },
    {
     "name": "stderr",
     "output_type": "stream",
     "text": [
      "                                                                                "
     ]
    }
   ],
   "source": [
    "rename_col.show()"
   ]
  },
  {
   "cell_type": "markdown",
   "id": "2c58a08c-9d8a-458f-adfe-934cc4d49239",
   "metadata": {},
   "source": [
    "### to verify"
   ]
  },
  {
   "cell_type": "code",
   "execution_count": 19,
   "id": "d629e77c-42df-4d60-9cd6-a1321a24b6bd",
   "metadata": {},
   "outputs": [
    {
     "name": "stderr",
     "output_type": "stream",
     "text": [
      "                                                                                "
     ]
    },
    {
     "data": {
      "text/plain": [
       "97508"
      ]
     },
     "execution_count": 19,
     "metadata": {},
     "output_type": "execute_result"
    }
   ],
   "source": [
    " network_again.filter(network_again.billing_code_modifier.isNotNull()).count()\n"
   ]
  },
  {
   "cell_type": "code",
   "execution_count": 20,
   "id": "26127f79-b027-4f79-b4eb-d6f877c2569f",
   "metadata": {},
   "outputs": [
    {
     "name": "stdout",
     "output_type": "stream",
     "text": [
      "root\n",
      " |-- bC: string (nullable = true)\n",
      " |-- bCT: string (nullable = true)\n",
      " |-- negA: string (nullable = true)\n",
      " |-- bCIs: string (nullable = true)\n",
      " |-- negR: double (nullable = true)\n",
      " |-- mdH: array (nullable = true)\n",
      " |    |-- element: string (containsNull = true)\n",
      " |-- negT: string (nullable = true)\n",
      " |-- poSH: integer (nullable = false)\n",
      " |-- provider_group_id: array (nullable = true)\n",
      " |    |-- element: long (containsNull = true)\n",
      "\n"
     ]
    }
   ],
   "source": [
    "rename_col.printSchema()"
   ]
  },
  {
   "cell_type": "code",
   "execution_count": 21,
   "id": "a2315ba9-6abc-4f50-af09-f484769d2e6f",
   "metadata": {},
   "outputs": [],
   "source": [
    "df_cast = rename_col.withColumn(\"poSH\", array(col(\"poSH\")))\n"
   ]
  },
  {
   "cell_type": "code",
   "execution_count": 22,
   "id": "0eb4c069-435c-4f00-81ef-7989821b77da",
   "metadata": {},
   "outputs": [
    {
     "name": "stdout",
     "output_type": "stream",
     "text": [
      "root\n",
      " |-- bC: string (nullable = true)\n",
      " |-- bCT: string (nullable = true)\n",
      " |-- negA: string (nullable = true)\n",
      " |-- bCIs: string (nullable = true)\n",
      " |-- negR: double (nullable = true)\n",
      " |-- mdH: array (nullable = true)\n",
      " |    |-- element: string (containsNull = true)\n",
      " |-- negT: string (nullable = true)\n",
      " |-- poSH: array (nullable = false)\n",
      " |    |-- element: integer (containsNull = false)\n",
      " |-- provider_group_id: array (nullable = true)\n",
      " |    |-- element: long (containsNull = true)\n",
      "\n"
     ]
    }
   ],
   "source": [
    "df_cast.printSchema()"
   ]
  },
  {
   "cell_type": "code",
   "execution_count": 23,
   "id": "188c8bb7-41de-4d24-809b-dfecab0cb57d",
   "metadata": {},
   "outputs": [
    {
     "name": "stderr",
     "output_type": "stream",
     "text": [
      "                                                                                "
     ]
    }
   ],
   "source": [
    "df_cast.toPandas().to_json('in_net.json', orient='records')"
   ]
  },
  {
   "cell_type": "code",
   "execution_count": null,
   "id": "bdefe372-b276-46fb-a533-f92bebf5bad9",
   "metadata": {},
   "outputs": [],
   "source": []
  },
  {
   "cell_type": "code",
   "execution_count": null,
   "id": "4fdf7055-237c-4996-99c7-67af3c8b1590",
   "metadata": {},
   "outputs": [],
   "source": []
  },
  {
   "cell_type": "code",
   "execution_count": null,
   "id": "5bb3b829-282c-4079-ac5a-87d4d6b39194",
   "metadata": {},
   "outputs": [],
   "source": []
  },
  {
   "cell_type": "code",
   "execution_count": null,
   "id": "a0f8625c-b833-461b-a405-5561c35fde94",
   "metadata": {},
   "outputs": [],
   "source": []
  }
 ],
 "metadata": {
  "kernelspec": {
   "display_name": "Python 3 (ipykernel)",
   "language": "python",
   "name": "python3"
  },
  "language_info": {
   "codemirror_mode": {
    "name": "ipython",
    "version": 3
   },
   "file_extension": ".py",
   "mimetype": "text/x-python",
   "name": "python",
   "nbconvert_exporter": "python",
   "pygments_lexer": "ipython3",
   "version": "3.10.12"
  }
 },
 "nbformat": 4,
 "nbformat_minor": 5
}
